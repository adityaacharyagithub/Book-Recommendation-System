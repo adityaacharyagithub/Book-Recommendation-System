{
  "nbformat": 4,
  "nbformat_minor": 0,
  "metadata": {
    "colab": {
      "provenance": [],
      "gpuType": "T4"
    },
    "kernelspec": {
      "name": "python3",
      "display_name": "Python 3"
    },
    "language_info": {
      "name": "python"
    },
    "accelerator": "GPU"
  },
  "cells": [
    {
      "cell_type": "markdown",
      "source": [
        "# **Book Recommender System**"
      ],
      "metadata": {
        "id": "8hKtd87O51py"
      }
    },
    {
      "cell_type": "markdown",
      "source": [
        "## Environment Setup and Data Loading"
      ],
      "metadata": {
        "id": "9Emxniju8xbw"
      }
    },
    {
      "cell_type": "code",
      "source": [
        "# importing libraries\n",
        "import pandas as pd\n",
        "import numpy as np\n",
        "from collections import Counter\n",
        "import ast\n",
        "from google.colab import data_table\n",
        "from google.colab import drive"
      ],
      "metadata": {
        "id": "zOOpDEGxv4oA"
      },
      "execution_count": 30,
      "outputs": []
    },
    {
      "cell_type": "code",
      "execution_count": null,
      "metadata": {
        "id": "LW1wSl4bSeS_"
      },
      "outputs": [],
      "source": [
        "# enabling data table formatter\n",
        "data_table.enable_dataframe_formatter()"
      ]
    },
    {
      "cell_type": "code",
      "source": [
        "# mounting google drive\n",
        "drive.mount(\"/content/drive\", force_remount=True)"
      ],
      "metadata": {
        "id": "gj6BJfxkxQ_D"
      },
      "execution_count": null,
      "outputs": []
    },
    {
      "cell_type": "code",
      "source": [
        "# read the csv file\n",
        "b = '/content/drive/My Drive/csvfiles/genredata.csv'\n",
        "books = pd.read_csv(b)"
      ],
      "metadata": {
        "id": "JO8AhhMfxQ54"
      },
      "execution_count": null,
      "outputs": []
    },
    {
      "cell_type": "markdown",
      "source": [
        "## Data Exploration and Preprocessing"
      ],
      "metadata": {
        "id": "KPvzKkMJ0zoq"
      }
    },
    {
      "cell_type": "code",
      "source": [
        "books.head(1)"
      ],
      "metadata": {
        "id": "WKFxv42fxQ3S"
      },
      "execution_count": null,
      "outputs": []
    },
    {
      "cell_type": "code",
      "source": [
        "books.info()"
      ],
      "metadata": {
        "id": "JlwU0zjYxQ02"
      },
      "execution_count": null,
      "outputs": []
    },
    {
      "cell_type": "code",
      "source": [
        "books.shape"
      ],
      "metadata": {
        "id": "Y2UUjt1cxQyA"
      },
      "execution_count": null,
      "outputs": []
    },
    {
      "cell_type": "code",
      "source": [
        "books.columns"
      ],
      "metadata": {
        "id": "kdvqR_b8yoUA"
      },
      "execution_count": null,
      "outputs": []
    },
    {
      "cell_type": "code",
      "source": [
        "# dropping column which is not needed\n",
        "books.drop('Unnamed: 0',axis=1,inplace=True)"
      ],
      "metadata": {
        "id": "Oj5B_bhExQvE"
      },
      "execution_count": null,
      "outputs": []
    },
    {
      "cell_type": "code",
      "source": [
        "books.isna().sum()"
      ],
      "metadata": {
        "id": "x13NF1T_xQsd"
      },
      "execution_count": null,
      "outputs": []
    },
    {
      "cell_type": "code",
      "source": [
        "books.isnull().sum()"
      ],
      "metadata": {
        "id": "h2Y1YAtNxQl-"
      },
      "execution_count": null,
      "outputs": []
    },
    {
      "cell_type": "code",
      "source": [
        "# some values in the description column have na values so replacing them with custom text\n",
        "no_desc = \"Description not available\"\n",
        "books.fillna(no_desc,inplace=True)"
      ],
      "metadata": {
        "id": "F-dWfglfxQe-"
      },
      "execution_count": null,
      "outputs": []
    },
    {
      "cell_type": "code",
      "source": [
        "books.duplicated().sum()"
      ],
      "metadata": {
        "id": "juPy8VoLz3gf"
      },
      "execution_count": null,
      "outputs": []
    },
    {
      "cell_type": "code",
      "source": [
        "books.Num_Ratings.dtype"
      ],
      "metadata": {
        "id": "xzfFjqEpGOdL"
      },
      "execution_count": null,
      "outputs": []
    },
    {
      "cell_type": "code",
      "source": [
        "# data in the following column has data type as object so removing the commas to make it suitable\n",
        "books['Num_Ratings'] = books['Num_Ratings'].str.replace(',','').astype(int)"
      ],
      "metadata": {
        "id": "v2oSxwmYz-KD"
      },
      "execution_count": null,
      "outputs": []
    },
    {
      "cell_type": "markdown",
      "source": [
        "# **Popularity-Based Book Recommendation**"
      ],
      "metadata": {
        "id": "B0w78a1W1C50"
      }
    },
    {
      "cell_type": "markdown",
      "source": [
        "## Selecting and filtering books  "
      ],
      "metadata": {
        "id": "N4Zsrplc92UO"
      }
    },
    {
      "cell_type": "code",
      "source": [
        "# filter out the books with the most number of ratings from the dataset\n",
        "popular_books = books[books['Num_Ratings']>=900000]\n",
        "popular_books.shape"
      ],
      "metadata": {
        "id": "FhF_gvD53bLY"
      },
      "execution_count": null,
      "outputs": []
    },
    {
      "cell_type": "code",
      "source": [
        "# filter out the top 100 books in descending order refering to the average rating\n",
        "popular_books = popular_books.sort_values('Avg_Rating',ascending=False).head(100)"
      ],
      "metadata": {
        "id": "gYtxhjdJ0RmM"
      },
      "execution_count": null,
      "outputs": []
    },
    {
      "cell_type": "code",
      "source": [
        "# drop any duplicates present in the dataset\n",
        "popular_books = popular_books.drop_duplicates('Book')[['Book','Author','Description','Avg_Rating','Num_Ratings','URL']]"
      ],
      "metadata": {
        "id": "BSzZ9w4I4U_V"
      },
      "execution_count": null,
      "outputs": []
    },
    {
      "cell_type": "code",
      "source": [
        "# filter out the top 50 books from the dataset\n",
        "popular_books = popular_books.head(50)"
      ],
      "metadata": {
        "id": "l3WMkEXY1tT0"
      },
      "execution_count": null,
      "outputs": []
    },
    {
      "cell_type": "code",
      "source": [
        "popular_books"
      ],
      "metadata": {
        "id": "npFsxGAM7TRu"
      },
      "execution_count": null,
      "outputs": []
    },
    {
      "cell_type": "markdown",
      "source": [
        "# **Genre-Based Book Recommendation**"
      ],
      "metadata": {
        "id": "MZMW0d7x8AHD"
      }
    },
    {
      "cell_type": "markdown",
      "source": [
        "## Function for displaying genres"
      ],
      "metadata": {
        "id": "GEg9lerE85ma"
      }
    },
    {
      "cell_type": "code",
      "source": [
        "# selecting the 'Genres' column and converting it into a list of commonly appearing genres\n",
        "unique_genres = books['Genres'].unique()\n",
        "print(unique_genres)\n",
        "\n",
        "genres_array = unique_genres\n",
        "\n",
        "genres_list = [ast.literal_eval(genre_str) for genre_str in genres_array]\n",
        "\n",
        "flat_genres = [genre for sublist in genres_list for genre in sublist]"
      ],
      "metadata": {
        "id": "lT6X0J5P_xUw"
      },
      "execution_count": null,
      "outputs": []
    },
    {
      "cell_type": "code",
      "source": [
        "def genres():\n",
        "    genre_counts = Counter(flat_genres)\n",
        "    top_50_genres = genre_counts.most_common(50)\n",
        "\n",
        "    num_columns = 10\n",
        "    column_width = len(top_50_genres) // num_columns\n",
        "\n",
        "    for i in range(0, len(top_50_genres), column_width):\n",
        "        columns = top_50_genres[i:i + column_width]\n",
        "        for genre, count in columns:\n",
        "            print(f\"{genre}\".ljust(25), end=\"\")\n",
        "        print()"
      ],
      "metadata": {
        "id": "bIexKmQggNZf"
      },
      "execution_count": 38,
      "outputs": []
    },
    {
      "cell_type": "markdown",
      "source": [
        "## Function for recommending books according to the user input"
      ],
      "metadata": {
        "id": "psO7uQSu9Ds_"
      }
    },
    {
      "cell_type": "code",
      "source": [
        "# defining recommend function to recommend the user book with the same genre as the user's input\n",
        "def recommend():\n",
        "    genres()\n",
        "    books = pd.read_csv(b)\n",
        "    user_input = input(\"\\nEnter genres (comma-separated): \")\n",
        "    user_genres = user_input.split(',')\n",
        "    books['Num_Ratings'] = books['Num_Ratings'].str.replace(',','').astype(int)\n",
        "\n",
        "    filtered_books = books[books['Genres'].apply(lambda x: any(genre in x for genre in user_genres))]\n",
        "\n",
        "    top_num_ratings = filtered_books[filtered_books['Num_Ratings'] >= 900000]\n",
        "\n",
        "    top_100 = top_num_ratings.sort_values('Avg_Rating', ascending=False).head(100)\n",
        "\n",
        "    top_no_duplicates = top_100.drop_duplicates('Book')[['Book', 'Author', 'Description', 'Avg_Rating', 'Num_Ratings', 'URL']]\n",
        "\n",
        "    top_no_duplicates = top_no_duplicates.head(5)\n",
        "\n",
        "    top_output = top_no_duplicates[['Book', 'Author', 'Description','URL']]\n",
        "\n",
        "    display(top_output)"
      ],
      "metadata": {
        "id": "V04WN8VQ_n8R"
      },
      "execution_count": 41,
      "outputs": []
    },
    {
      "cell_type": "code",
      "source": [
        "# calling the function\n",
        "recommend()"
      ],
      "metadata": {
        "id": "rQpKpQ5h9hpq"
      },
      "execution_count": null,
      "outputs": []
    },
    {
      "cell_type": "markdown",
      "source": [
        "# Code is completed here"
      ],
      "metadata": {
        "id": "x3tA9793B8pf"
      }
    },
    {
      "cell_type": "code",
      "source": [],
      "metadata": {
        "id": "qAUnyqLdKWre"
      },
      "execution_count": null,
      "outputs": []
    }
  ]
}